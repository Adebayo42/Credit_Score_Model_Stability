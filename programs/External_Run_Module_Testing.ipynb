{
 "cells": [
  {
   "cell_type": "code",
   "execution_count": 25,
   "id": "1ef1b1f4",
   "metadata": {},
   "outputs": [
    {
     "name": "stdout",
     "output_type": "stream",
     "text": [
      " data_loading module is working fine\n"
     ]
    }
   ],
   "source": [
    "## Test the data loading Module\n",
    "%run Data_loading.py"
   ]
  },
  {
   "cell_type": "code",
   "execution_count": 26,
   "id": "820ab7a8",
   "metadata": {},
   "outputs": [
    {
     "name": "stdout",
     "output_type": "stream",
     "text": [
      " data_exploration module is working fine\n"
     ]
    }
   ],
   "source": [
    "## Test the data exploration Module\n",
    "\n",
    "%run Data_exploration.py"
   ]
  },
  {
   "cell_type": "code",
   "execution_count": 27,
   "id": "ad6378cd",
   "metadata": {},
   "outputs": [
    {
     "name": "stdout",
     "output_type": "stream",
     "text": [
      " missing_value_handler module is working fine\n"
     ]
    }
   ],
   "source": [
    "## Test the missimg value handler Module\n",
    "\n",
    "%run missing_value_handler.py"
   ]
  },
  {
   "cell_type": "code",
   "execution_count": 3,
   "id": "8d1a6aa0",
   "metadata": {},
   "outputs": [
    {
     "name": "stdout",
     "output_type": "stream",
     "text": [
      " feature_engineering module is working fine\n"
     ]
    }
   ],
   "source": [
    "## Test the feature engineering Module\n",
    "\n",
    "%run feature_engineering.py"
   ]
  },
  {
   "cell_type": "code",
   "execution_count": 51,
   "id": "4eb03dfd",
   "metadata": {},
   "outputs": [
    {
     "name": "stdout",
     "output_type": "stream",
     "text": [
      " general_function module is working fine\n"
     ]
    }
   ],
   "source": [
    "## Test the general function Module\n",
    "\n",
    "%run general_function.py"
   ]
  },
  {
   "cell_type": "code",
   "execution_count": 48,
   "id": "12d898f1",
   "metadata": {},
   "outputs": [
    {
     "name": "stdout",
     "output_type": "stream",
     "text": [
      " class_balancing module is working fine\n"
     ]
    }
   ],
   "source": [
    "## Test the class_balancing function Module\n",
    "\n",
    "%run class_balancing.py"
   ]
  },
  {
   "cell_type": "code",
   "execution_count": 11,
   "id": "f0ff23c0",
   "metadata": {},
   "outputs": [
    {
     "name": "stdout",
     "output_type": "stream",
     "text": [
      " feature_selection module is working fine\n"
     ]
    }
   ],
   "source": [
    "## Test the feature_selection function Module\n",
    "\n",
    "%run feature_selection.py"
   ]
  },
  {
   "cell_type": "code",
   "execution_count": 7,
   "id": "4820af3e",
   "metadata": {},
   "outputs": [
    {
     "name": "stdout",
     "output_type": "stream",
     "text": [
      " model_development module is working fine\n"
     ]
    }
   ],
   "source": [
    "## Test the model_development function Module\n",
    "\n",
    "%run model_development.py"
   ]
  },
  {
   "cell_type": "code",
   "execution_count": 8,
   "id": "0ff6d772",
   "metadata": {},
   "outputs": [
    {
     "name": "stdout",
     "output_type": "stream",
     "text": [
      " sythetic_data_augmentation module is working fine\n"
     ]
    }
   ],
   "source": [
    "## Test the sythetic_data_augmentation function Module\n",
    "\n",
    "%run sythetic_data_augmentation.py"
   ]
  },
  {
   "cell_type": "code",
   "execution_count": 10,
   "id": "2977a62a",
   "metadata": {},
   "outputs": [
    {
     "name": "stdout",
     "output_type": "stream",
     "text": [
      " model_explainability module is working fine\n"
     ]
    }
   ],
   "source": [
    "## Test the model_explainability function Module\n",
    "\n",
    "%run model_explainability.py"
   ]
  },
  {
   "cell_type": "code",
   "execution_count": null,
   "id": "93ee1d28",
   "metadata": {},
   "outputs": [],
   "source": []
  }
 ],
 "metadata": {
  "kernelspec": {
   "display_name": "Python 3 (ipykernel)",
   "language": "python",
   "name": "python3"
  },
  "language_info": {
   "codemirror_mode": {
    "name": "ipython",
    "version": 3
   },
   "file_extension": ".py",
   "mimetype": "text/x-python",
   "name": "python",
   "nbconvert_exporter": "python",
   "pygments_lexer": "ipython3",
   "version": "3.10.9"
  }
 },
 "nbformat": 4,
 "nbformat_minor": 5
}
